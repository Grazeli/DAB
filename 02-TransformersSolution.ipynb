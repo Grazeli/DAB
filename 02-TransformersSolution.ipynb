{
 "cells": [
  {
   "cell_type": "markdown",
   "id": "6381ad60-2320-44e0-aab1-364026d9f993",
   "metadata": {},
   "source": [
    "## Transformers Model Solution"
   ]
  },
  {
   "cell_type": "markdown",
   "id": "54d41449-1a02-4df2-9978-7ad3b289a2c9",
   "metadata": {},
   "source": [
    "This is more of an experimental test, assessing whether transformers, in this case Table Question Answering, that can be loaded in a short amount of time are capable of accurately answering this type of questions.\r\n",
    "\r\n",
    "For this example, I will use the Microsoft Tapex-large-finetuned-wtq model available on Hugging FaceThis is a relatively small model, with 406 million parameters, which suggests that the results might significantly suffer from hallucination issues.\n",
    "\n",
    "https://huggingface.co/microsoft/tapex-large-finetuned-wtq\r\n",
    "\r\n",
    "\r\n",
    "\n",
    "\r\n",
    "\r\n",
    "\r\n",
    "\r\n"
   ]
  },
  {
   "cell_type": "code",
   "execution_count": 1,
   "id": "613c576b-8c6f-48f5-b39f-feeca85e1d4b",
   "metadata": {},
   "outputs": [
    {
     "name": "stderr",
     "output_type": "stream",
     "text": [
      "C:\\Users\\gazel\\anaconda3\\envs\\DeloitteTest\\Lib\\site-packages\\tqdm\\auto.py:21: TqdmWarning: IProgress not found. Please update jupyter and ipywidgets. See https://ipywidgets.readthedocs.io/en/stable/user_install.html\n",
      "  from .autonotebook import tqdm as notebook_tqdm\n"
     ]
    }
   ],
   "source": [
    "import pandas as pd\n",
    "from datetime import date\n",
    "\n",
    "from transformers import TapexTokenizer, BartForConditionalGeneration"
   ]
  },
  {
   "cell_type": "code",
   "execution_count": 2,
   "id": "68153af4-9786-433a-9e54-d48a3f06d785",
   "metadata": {},
   "outputs": [],
   "source": [
    "file_path = 'AddressBook.txt'\n",
    "\n",
    "data = []\n",
    "\n",
    "with open(file_path, 'r') as file:\n",
    "    for line in file:\n",
    "        data.append(line.strip().split(', '))\n",
    "\n",
    "columns = ['Name', 'Sex', 'Date of birth']\n",
    "df = pd.DataFrame(data, columns=columns)"
   ]
  },
  {
   "cell_type": "code",
   "execution_count": 3,
   "id": "de8ca145-c7c1-4ea4-921a-547a925be3c2",
   "metadata": {},
   "outputs": [
    {
     "data": {
      "text/html": [
       "<div>\n",
       "<style scoped>\n",
       "    .dataframe tbody tr th:only-of-type {\n",
       "        vertical-align: middle;\n",
       "    }\n",
       "\n",
       "    .dataframe tbody tr th {\n",
       "        vertical-align: top;\n",
       "    }\n",
       "\n",
       "    .dataframe thead th {\n",
       "        text-align: right;\n",
       "    }\n",
       "</style>\n",
       "<table border=\"1\" class=\"dataframe\">\n",
       "  <thead>\n",
       "    <tr style=\"text-align: right;\">\n",
       "      <th></th>\n",
       "      <th>Name</th>\n",
       "      <th>Sex</th>\n",
       "      <th>Date of birth</th>\n",
       "    </tr>\n",
       "  </thead>\n",
       "  <tbody>\n",
       "    <tr>\n",
       "      <th>0</th>\n",
       "      <td>Bill McKnight</td>\n",
       "      <td>Male</td>\n",
       "      <td>16/03/77</td>\n",
       "    </tr>\n",
       "    <tr>\n",
       "      <th>1</th>\n",
       "      <td>Paul Robinson</td>\n",
       "      <td>Male</td>\n",
       "      <td>15/01/85</td>\n",
       "    </tr>\n",
       "    <tr>\n",
       "      <th>2</th>\n",
       "      <td>Gemma Lane</td>\n",
       "      <td>Female</td>\n",
       "      <td>20/11/91</td>\n",
       "    </tr>\n",
       "    <tr>\n",
       "      <th>3</th>\n",
       "      <td>Sarah Stone</td>\n",
       "      <td>Female</td>\n",
       "      <td>20/09/80</td>\n",
       "    </tr>\n",
       "    <tr>\n",
       "      <th>4</th>\n",
       "      <td>Wes Jackson</td>\n",
       "      <td>Male</td>\n",
       "      <td>14/08/74</td>\n",
       "    </tr>\n",
       "  </tbody>\n",
       "</table>\n",
       "</div>"
      ],
      "text/plain": [
       "            Name     Sex Date of birth\n",
       "0  Bill McKnight    Male      16/03/77\n",
       "1  Paul Robinson    Male      15/01/85\n",
       "2     Gemma Lane  Female      20/11/91\n",
       "3    Sarah Stone  Female      20/09/80\n",
       "4    Wes Jackson    Male      14/08/74"
      ]
     },
     "execution_count": 3,
     "metadata": {},
     "output_type": "execute_result"
    }
   ],
   "source": [
    "df"
   ]
  },
  {
   "cell_type": "code",
   "execution_count": 4,
   "id": "124829a8-b45f-4a1e-ab8b-e5829fb688f4",
   "metadata": {},
   "outputs": [],
   "source": [
    "# No need to transform the date of birth in datetime column as the model don't accept datetime columns."
   ]
  },
  {
   "cell_type": "code",
   "execution_count": 5,
   "id": "3e56a1b8-649e-4444-b9af-f2d4e7cd5d61",
   "metadata": {},
   "outputs": [],
   "source": [
    "# Reading the model\n",
    "tokenizer = TapexTokenizer.from_pretrained(\"microsoft/tapex-large-finetuned-wtq\")\n",
    "model = BartForConditionalGeneration.from_pretrained(\"microsoft/tapex-large-finetuned-wtq\")"
   ]
  },
  {
   "cell_type": "code",
   "execution_count": 6,
   "id": "4407d4c2-f606-48ea-b0cc-8efac6d0289a",
   "metadata": {},
   "outputs": [],
   "source": [
    "# Question function\n",
    "def ask_question(df: pd.DataFrame, question: str):\n",
    "    # Encode question with database\n",
    "    encoding = tokenizer(table=df, query=question, return_tensors=\"pt\")\n",
    "\n",
    "    # Generate model answer\n",
    "    outputs = model.generate(**encoding)\n",
    "\n",
    "    # Decode model answer\n",
    "    return tokenizer.batch_decode(outputs, skip_special_tokens=True)[0]"
   ]
  },
  {
   "cell_type": "markdown",
   "id": "f3ba6855-89a2-44da-a8e7-2aa2cfc9361c",
   "metadata": {},
   "source": [
    "## Question 1: How many males are in the address book ?"
   ]
  },
  {
   "cell_type": "code",
   "execution_count": 7,
   "id": "d3ea4d07-ef34-42a7-9cf2-119319ce28f8",
   "metadata": {},
   "outputs": [
    {
     "name": "stdout",
     "output_type": "stream",
     "text": [
      " 3\n"
     ]
    }
   ],
   "source": [
    "question = 'How many males are in the address book ?'\n",
    "print(ask_question(df, question))"
   ]
  },
  {
   "cell_type": "code",
   "execution_count": 8,
   "id": "efe1dbaf-668f-4cc1-a66c-0c0946848921",
   "metadata": {},
   "outputs": [
    {
     "name": "stdout",
     "output_type": "stream",
     "text": [
      " 2\n"
     ]
    }
   ],
   "source": [
    "question = 'How many females are in the address book ?'\n",
    "print(ask_question(df, question))"
   ]
  },
  {
   "cell_type": "markdown",
   "id": "5388871c-c5ad-4138-b2fe-27db28097827",
   "metadata": {},
   "source": [
    "## Question 2: Who is the oldest person in the address book ?"
   ]
  },
  {
   "cell_type": "code",
   "execution_count": 9,
   "id": "248f2a88-0c7a-427b-9ace-198e822a8da6",
   "metadata": {},
   "outputs": [
    {
     "name": "stdout",
     "output_type": "stream",
     "text": [
      " wes jackson\n"
     ]
    }
   ],
   "source": [
    "question = 'Who is the oldest person in the address book ?'\n",
    "print(ask_question(df, question))"
   ]
  },
  {
   "cell_type": "code",
   "execution_count": 10,
   "id": "f1f6cc99-454d-4569-a218-836137bceed5",
   "metadata": {},
   "outputs": [
    {
     "name": "stdout",
     "output_type": "stream",
     "text": [
      " wes jackson\n"
     ]
    }
   ],
   "source": [
    "question = 'Who is the youngest person in the address book ?'\n",
    "print(ask_question(df, question))"
   ]
  },
  {
   "cell_type": "code",
   "execution_count": 11,
   "id": "7aa846d7-71e4-42b4-8258-c4d33f258b8c",
   "metadata": {},
   "outputs": [
    {
     "name": "stdout",
     "output_type": "stream",
     "text": [
      " wes jackson\n"
     ]
    }
   ],
   "source": [
    "question = 'Who has the lowest age ?'\n",
    "print(ask_question(df, question))"
   ]
  },
  {
   "cell_type": "markdown",
   "id": "8bff7f99-dd91-40f1-bbee-226adb52ad9c",
   "metadata": {},
   "source": [
    "The model appears to generate incorrect responses about ages, likely due to its inability to correlate the date of birth with the corresponding age.\n",
    "\n",
    "To tackle this issue I will add an age column."
   ]
  },
  {
   "cell_type": "code",
   "execution_count": 12,
   "id": "ec0535c9-f97b-46a4-a687-f5fdb00fdecc",
   "metadata": {},
   "outputs": [],
   "source": [
    "today = date.today()\n",
    "\n",
    "df['Age'] = pd.to_datetime(df['Date of birth'], format='%d/%m/%y').apply(\n",
    "    lambda x: today.year - x.year - ((today.month, today.day) < (x.month, x.day)))"
   ]
  },
  {
   "cell_type": "code",
   "execution_count": 13,
   "id": "30ab5be7-db83-43d9-9e3b-7464646f5ffa",
   "metadata": {},
   "outputs": [
    {
     "data": {
      "text/html": [
       "<div>\n",
       "<style scoped>\n",
       "    .dataframe tbody tr th:only-of-type {\n",
       "        vertical-align: middle;\n",
       "    }\n",
       "\n",
       "    .dataframe tbody tr th {\n",
       "        vertical-align: top;\n",
       "    }\n",
       "\n",
       "    .dataframe thead th {\n",
       "        text-align: right;\n",
       "    }\n",
       "</style>\n",
       "<table border=\"1\" class=\"dataframe\">\n",
       "  <thead>\n",
       "    <tr style=\"text-align: right;\">\n",
       "      <th></th>\n",
       "      <th>Name</th>\n",
       "      <th>Sex</th>\n",
       "      <th>Date of birth</th>\n",
       "      <th>Age</th>\n",
       "    </tr>\n",
       "  </thead>\n",
       "  <tbody>\n",
       "    <tr>\n",
       "      <th>0</th>\n",
       "      <td>Bill McKnight</td>\n",
       "      <td>Male</td>\n",
       "      <td>16/03/77</td>\n",
       "      <td>46</td>\n",
       "    </tr>\n",
       "    <tr>\n",
       "      <th>1</th>\n",
       "      <td>Paul Robinson</td>\n",
       "      <td>Male</td>\n",
       "      <td>15/01/85</td>\n",
       "      <td>39</td>\n",
       "    </tr>\n",
       "    <tr>\n",
       "      <th>2</th>\n",
       "      <td>Gemma Lane</td>\n",
       "      <td>Female</td>\n",
       "      <td>20/11/91</td>\n",
       "      <td>32</td>\n",
       "    </tr>\n",
       "    <tr>\n",
       "      <th>3</th>\n",
       "      <td>Sarah Stone</td>\n",
       "      <td>Female</td>\n",
       "      <td>20/09/80</td>\n",
       "      <td>43</td>\n",
       "    </tr>\n",
       "    <tr>\n",
       "      <th>4</th>\n",
       "      <td>Wes Jackson</td>\n",
       "      <td>Male</td>\n",
       "      <td>14/08/74</td>\n",
       "      <td>49</td>\n",
       "    </tr>\n",
       "  </tbody>\n",
       "</table>\n",
       "</div>"
      ],
      "text/plain": [
       "            Name     Sex Date of birth  Age\n",
       "0  Bill McKnight    Male      16/03/77   46\n",
       "1  Paul Robinson    Male      15/01/85   39\n",
       "2     Gemma Lane  Female      20/11/91   32\n",
       "3    Sarah Stone  Female      20/09/80   43\n",
       "4    Wes Jackson    Male      14/08/74   49"
      ]
     },
     "execution_count": 13,
     "metadata": {},
     "output_type": "execute_result"
    }
   ],
   "source": [
    "df"
   ]
  },
  {
   "cell_type": "code",
   "execution_count": 14,
   "id": "00942762-5372-4bba-a9c9-02d22841798b",
   "metadata": {},
   "outputs": [
    {
     "name": "stdout",
     "output_type": "stream",
     "text": [
      " wes jackson\n"
     ]
    }
   ],
   "source": [
    "# Let's try again\n",
    "question = 'Who is the oldest person in the address book ?'\n",
    "print(ask_question(df, question))"
   ]
  },
  {
   "cell_type": "code",
   "execution_count": 15,
   "id": "780220b8-8020-43f1-9e13-310d0c635281",
   "metadata": {},
   "outputs": [
    {
     "name": "stdout",
     "output_type": "stream",
     "text": [
      " wes jackson\n"
     ]
    }
   ],
   "source": [
    "question = 'Who is the youngest person in the address book ?'\n",
    "print(ask_question(df, question))"
   ]
  },
  {
   "cell_type": "code",
   "execution_count": 16,
   "id": "7e48012b-cc87-4018-8152-c0d8ae86ded9",
   "metadata": {},
   "outputs": [
    {
     "name": "stdout",
     "output_type": "stream",
     "text": [
      " gemma lane\n"
     ]
    }
   ],
   "source": [
    "question = 'Who has the lowest age ?'\n",
    "print(ask_question(df, question))"
   ]
  },
  {
   "cell_type": "markdown",
   "id": "26398dee-0d8f-465b-b3c2-347719a5bed5",
   "metadata": {},
   "source": [
    "There is an issue with the complexity of the question; it needs to be simpler. A more complex model, such as ChatGPT-4, could answer this. An interesting idea would be to try it with a model like Mistral 7B. However, I do not have it installed right now.\n",
    "\n",
    "![ChatGPT_age_question image](ChatGPT_age_question.png)"
   ]
  },
  {
   "cell_type": "markdown",
   "id": "92d7ae1c-1184-4ddb-b386-61e97008d44a",
   "metadata": {},
   "source": [
    "## Question 3: How many days older is Bill than Paul ?"
   ]
  },
  {
   "cell_type": "code",
   "execution_count": 17,
   "id": "2ead8baf-16d5-407c-9d47-8f1cb22510b2",
   "metadata": {},
   "outputs": [
    {
     "name": "stdout",
     "output_type": "stream",
     "text": [
      " 5\n"
     ]
    }
   ],
   "source": [
    "question = 'How many days separate Bill and Paul date of birth?'\n",
    "print(ask_question(df, question))"
   ]
  },
  {
   "cell_type": "markdown",
   "id": "e8c3e931-6a8f-4dec-9455-d43fdf07bfa5",
   "metadata": {},
   "source": [
    "Without much surprise, it can't the last question which is much harder, let's add a column that indicates the number of days to today."
   ]
  },
  {
   "cell_type": "code",
   "execution_count": 18,
   "id": "2eabb914-ab3e-4ebe-a1f7-db46be3ea26f",
   "metadata": {},
   "outputs": [
    {
     "name": "stderr",
     "output_type": "stream",
     "text": [
      "C:\\Users\\gazel\\AppData\\Local\\Temp\\ipykernel_23688\\1943568355.py:1: UserWarning: Could not infer format, so each element will be parsed individually, falling back to `dateutil`. To ensure parsing is consistent and as-expected, please specify a format.\n",
      "  df['Days to today'] = (date.today() - pd.to_datetime(df['Date of birth']).dt.date).apply(lambda x: x.days)\n"
     ]
    }
   ],
   "source": [
    "df['Days to today'] = (date.today() - pd.to_datetime(df['Date of birth']).dt.date).apply(lambda x: x.days)"
   ]
  },
  {
   "cell_type": "code",
   "execution_count": 19,
   "id": "448c66c7-c970-4042-b484-462f314e1ac6",
   "metadata": {},
   "outputs": [
    {
     "data": {
      "text/html": [
       "<div>\n",
       "<style scoped>\n",
       "    .dataframe tbody tr th:only-of-type {\n",
       "        vertical-align: middle;\n",
       "    }\n",
       "\n",
       "    .dataframe tbody tr th {\n",
       "        vertical-align: top;\n",
       "    }\n",
       "\n",
       "    .dataframe thead th {\n",
       "        text-align: right;\n",
       "    }\n",
       "</style>\n",
       "<table border=\"1\" class=\"dataframe\">\n",
       "  <thead>\n",
       "    <tr style=\"text-align: right;\">\n",
       "      <th></th>\n",
       "      <th>Name</th>\n",
       "      <th>Sex</th>\n",
       "      <th>Date of birth</th>\n",
       "      <th>Age</th>\n",
       "      <th>Days to today</th>\n",
       "    </tr>\n",
       "  </thead>\n",
       "  <tbody>\n",
       "    <tr>\n",
       "      <th>0</th>\n",
       "      <td>Bill McKnight</td>\n",
       "      <td>Male</td>\n",
       "      <td>16/03/77</td>\n",
       "      <td>46</td>\n",
       "      <td>17164</td>\n",
       "    </tr>\n",
       "    <tr>\n",
       "      <th>1</th>\n",
       "      <td>Paul Robinson</td>\n",
       "      <td>Male</td>\n",
       "      <td>15/01/85</td>\n",
       "      <td>39</td>\n",
       "      <td>14302</td>\n",
       "    </tr>\n",
       "    <tr>\n",
       "      <th>2</th>\n",
       "      <td>Gemma Lane</td>\n",
       "      <td>Female</td>\n",
       "      <td>20/11/91</td>\n",
       "      <td>32</td>\n",
       "      <td>11802</td>\n",
       "    </tr>\n",
       "    <tr>\n",
       "      <th>3</th>\n",
       "      <td>Sarah Stone</td>\n",
       "      <td>Female</td>\n",
       "      <td>20/09/80</td>\n",
       "      <td>43</td>\n",
       "      <td>15880</td>\n",
       "    </tr>\n",
       "    <tr>\n",
       "      <th>4</th>\n",
       "      <td>Wes Jackson</td>\n",
       "      <td>Male</td>\n",
       "      <td>14/08/74</td>\n",
       "      <td>49</td>\n",
       "      <td>18109</td>\n",
       "    </tr>\n",
       "  </tbody>\n",
       "</table>\n",
       "</div>"
      ],
      "text/plain": [
       "            Name     Sex Date of birth  Age  Days to today\n",
       "0  Bill McKnight    Male      16/03/77   46          17164\n",
       "1  Paul Robinson    Male      15/01/85   39          14302\n",
       "2     Gemma Lane  Female      20/11/91   32          11802\n",
       "3    Sarah Stone  Female      20/09/80   43          15880\n",
       "4    Wes Jackson    Male      14/08/74   49          18109"
      ]
     },
     "execution_count": 19,
     "metadata": {},
     "output_type": "execute_result"
    }
   ],
   "source": [
    "df"
   ]
  },
  {
   "cell_type": "code",
   "execution_count": 20,
   "id": "72b5bd6f-69e4-4b28-ae82-364ca3bbfcb5",
   "metadata": {},
   "outputs": [
    {
     "name": "stdout",
     "output_type": "stream",
     "text": [
      " 667\n"
     ]
    }
   ],
   "source": [
    "question = 'What is the difference between the Days to today between Paul and Bill?'\n",
    "print(ask_question(df, question))"
   ]
  },
  {
   "cell_type": "markdown",
   "id": "1f8e2f36-eb9c-4ef7-8ce8-efa2c0fbbd77",
   "metadata": {},
   "source": [
    "Same as the second question.\n",
    "\n",
    "![ChatGPT_days_difference image](ChatGPT_days_difference.png)"
   ]
  }
 ],
 "metadata": {
  "kernelspec": {
   "display_name": "Python 3 (ipykernel)",
   "language": "python",
   "name": "python3"
  },
  "language_info": {
   "codemirror_mode": {
    "name": "ipython",
    "version": 3
   },
   "file_extension": ".py",
   "mimetype": "text/x-python",
   "name": "python",
   "nbconvert_exporter": "python",
   "pygments_lexer": "ipython3",
   "version": "3.11.8"
  }
 },
 "nbformat": 4,
 "nbformat_minor": 5
}
