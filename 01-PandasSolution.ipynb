{
 "cells": [
  {
   "cell_type": "code",
   "execution_count": 2,
   "id": "23e4e574-3d03-409a-9958-6a5a2a577083",
   "metadata": {},
   "outputs": [],
   "source": [
    "import pandas as pd"
   ]
  },
  {
   "cell_type": "code",
   "execution_count": 3,
   "id": "260e6359-2c23-4a8a-b341-23102fcac574",
   "metadata": {},
   "outputs": [],
   "source": [
    "file_path = 'AddressBook.txt'\n",
    "\n",
    "data = []\n",
    "\n",
    "with open(file_path, 'r') as file:\n",
    "    for line in file:\n",
    "        data.append(line.strip().split(', '))\n",
    "\n",
    "columns = ['Name', 'Sex', 'Date of birth']\n",
    "df = pd.DataFrame(data, columns=columns)"
   ]
  },
  {
   "cell_type": "code",
   "execution_count": 4,
   "id": "38a6aa3c-10c7-4cd7-aca8-b6ec13381f47",
   "metadata": {},
   "outputs": [
    {
     "data": {
      "text/html": [
       "<div>\n",
       "<style scoped>\n",
       "    .dataframe tbody tr th:only-of-type {\n",
       "        vertical-align: middle;\n",
       "    }\n",
       "\n",
       "    .dataframe tbody tr th {\n",
       "        vertical-align: top;\n",
       "    }\n",
       "\n",
       "    .dataframe thead th {\n",
       "        text-align: right;\n",
       "    }\n",
       "</style>\n",
       "<table border=\"1\" class=\"dataframe\">\n",
       "  <thead>\n",
       "    <tr style=\"text-align: right;\">\n",
       "      <th></th>\n",
       "      <th>Name</th>\n",
       "      <th>Sex</th>\n",
       "      <th>Date of birth</th>\n",
       "    </tr>\n",
       "  </thead>\n",
       "  <tbody>\n",
       "    <tr>\n",
       "      <th>0</th>\n",
       "      <td>Bill McKnight</td>\n",
       "      <td>Male</td>\n",
       "      <td>16/03/77</td>\n",
       "    </tr>\n",
       "    <tr>\n",
       "      <th>1</th>\n",
       "      <td>Paul Robinson</td>\n",
       "      <td>Male</td>\n",
       "      <td>15/01/85</td>\n",
       "    </tr>\n",
       "    <tr>\n",
       "      <th>2</th>\n",
       "      <td>Gemma Lane</td>\n",
       "      <td>Female</td>\n",
       "      <td>20/11/91</td>\n",
       "    </tr>\n",
       "    <tr>\n",
       "      <th>3</th>\n",
       "      <td>Sarah Stone</td>\n",
       "      <td>Female</td>\n",
       "      <td>20/09/80</td>\n",
       "    </tr>\n",
       "    <tr>\n",
       "      <th>4</th>\n",
       "      <td>Wes Jackson</td>\n",
       "      <td>Male</td>\n",
       "      <td>14/08/74</td>\n",
       "    </tr>\n",
       "  </tbody>\n",
       "</table>\n",
       "</div>"
      ],
      "text/plain": [
       "            Name     Sex Date of birth\n",
       "0  Bill McKnight    Male      16/03/77\n",
       "1  Paul Robinson    Male      15/01/85\n",
       "2     Gemma Lane  Female      20/11/91\n",
       "3    Sarah Stone  Female      20/09/80\n",
       "4    Wes Jackson    Male      14/08/74"
      ]
     },
     "execution_count": 4,
     "metadata": {},
     "output_type": "execute_result"
    }
   ],
   "source": [
    "df"
   ]
  },
  {
   "cell_type": "code",
   "execution_count": 5,
   "id": "0a6a1fce-069d-403c-94dc-b9ec97b459c1",
   "metadata": {},
   "outputs": [
    {
     "data": {
      "text/plain": [
       "Name             object\n",
       "Sex              object\n",
       "Date of birth    object\n",
       "dtype: object"
      ]
     },
     "execution_count": 5,
     "metadata": {},
     "output_type": "execute_result"
    }
   ],
   "source": [
    "df.dtypes"
   ]
  },
  {
   "cell_type": "code",
   "execution_count": 6,
   "id": "ca2aefb3-f817-4fee-9d76-c239890b5236",
   "metadata": {},
   "outputs": [],
   "source": [
    "# Transform 'Date of birth' column to date\n",
    "df['Date of birth'] = pd.to_datetime(df['Date of birth'], format='%d/%m/%y')"
   ]
  },
  {
   "cell_type": "markdown",
   "id": "48fa92d9-a1dd-4173-9775-1aad0f682286",
   "metadata": {},
   "source": [
    "## Question 1: How many males are in the address book ?"
   ]
  },
  {
   "cell_type": "code",
   "execution_count": 8,
   "id": "d4670413-d0d3-4e8b-97ab-4c2a12f852f7",
   "metadata": {},
   "outputs": [
    {
     "name": "stdout",
     "output_type": "stream",
     "text": [
      "There are 3 males in the address book.\n"
     ]
    }
   ],
   "source": [
    "num_males = (df['Sex'] == 'Male').sum()\n",
    "\n",
    "print(f'There are {num_males} males in the address book.')"
   ]
  },
  {
   "cell_type": "markdown",
   "id": "04aaf888-8752-4dc7-90cb-40ac0f24c92a",
   "metadata": {},
   "source": [
    "## Question 2: Who is the oldest person in the address book ?"
   ]
  },
  {
   "cell_type": "code",
   "execution_count": 20,
   "id": "136ae378-252a-41cb-8d26-ddd9377521f6",
   "metadata": {},
   "outputs": [
    {
     "name": "stdout",
     "output_type": "stream",
     "text": [
      "The oldest person is: Wes Jackson\n",
      "\n"
     ]
    },
    {
     "data": {
      "text/html": [
       "<div>\n",
       "<style scoped>\n",
       "    .dataframe tbody tr th:only-of-type {\n",
       "        vertical-align: middle;\n",
       "    }\n",
       "\n",
       "    .dataframe tbody tr th {\n",
       "        vertical-align: top;\n",
       "    }\n",
       "\n",
       "    .dataframe thead th {\n",
       "        text-align: right;\n",
       "    }\n",
       "</style>\n",
       "<table border=\"1\" class=\"dataframe\">\n",
       "  <thead>\n",
       "    <tr style=\"text-align: right;\">\n",
       "      <th></th>\n",
       "      <th>Name</th>\n",
       "      <th>Sex</th>\n",
       "      <th>Date of birth</th>\n",
       "    </tr>\n",
       "  </thead>\n",
       "  <tbody>\n",
       "    <tr>\n",
       "      <th>4</th>\n",
       "      <td>Wes Jackson</td>\n",
       "      <td>Male</td>\n",
       "      <td>1974-08-14</td>\n",
       "    </tr>\n",
       "  </tbody>\n",
       "</table>\n",
       "</div>"
      ],
      "text/plain": [
       "          Name   Sex Date of birth\n",
       "4  Wes Jackson  Male    1974-08-14"
      ]
     },
     "metadata": {},
     "output_type": "display_data"
    }
   ],
   "source": [
    "mask_oldest_person = df['Date of birth'] == df['Date of birth'].min()\n",
    "\n",
    "print(f\"The oldest person is: {df[mask_oldest_person]['Name'].iloc[0]}\\n\")\n",
    "\n",
    "display(df[mask_oldest_person])"
   ]
  },
  {
   "cell_type": "markdown",
   "id": "fcca5a3e-bfee-43a7-911d-4de803a412c2",
   "metadata": {},
   "source": [
    "## Question 3: How many days older is Bill than Paul ?"
   ]
  },
  {
   "cell_type": "code",
   "execution_count": 24,
   "id": "ace1f663-a93e-4574-b6b3-8b7d7b75499b",
   "metadata": {},
   "outputs": [
    {
     "name": "stdout",
     "output_type": "stream",
     "text": [
      "Bill is 2862 days older than Paul.\n"
     ]
    }
   ],
   "source": [
    "days_difference = (\n",
    "    df.loc[df['Name'].str.contains('Paul'), 'Date of birth'].iloc[0] -\n",
    "    df.loc[df['Name'].str.contains('Bill'), 'Date of birth'].iloc[0]\n",
    ").days\n",
    "\n",
    "print(f'Bill is {days_difference} days older than Paul.')"
   ]
  }
 ],
 "metadata": {
  "kernelspec": {
   "display_name": "Python 3 (ipykernel)",
   "language": "python",
   "name": "python3"
  },
  "language_info": {
   "codemirror_mode": {
    "name": "ipython",
    "version": 3
   },
   "file_extension": ".py",
   "mimetype": "text/x-python",
   "name": "python",
   "nbconvert_exporter": "python",
   "pygments_lexer": "ipython3",
   "version": "3.11.8"
  }
 },
 "nbformat": 4,
 "nbformat_minor": 5
}
